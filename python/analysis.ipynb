{
 "cells": [
  {
   "cell_type": "markdown",
   "metadata": {},
   "source": [
    "# Analysis of NetLogo PVI (pedestrian-vehicle interaction) model\n",
    "\n",
    "This notebook does:\n",
    "- Reads netlogo data (output) `log.csv`\n",
    "- Clean data (we erase the first agents in the simulation, since very low number of initial pedestrian in the intersection skews the model. We then can set in the large-scale model a threshold of intersection crowdness based on number of agents and geometry of intersection. This is a topic for further research. For now, 50 pedestrians enter the simulation every 30 sec.)"
   ]
  },
  {
   "cell_type": "code",
   "execution_count": null,
   "metadata": {},
   "outputs": [],
   "source": [
    "import pandas as pd\n",
    "import matplotlib.pyplot as plt\n",
    "plt.matplotlib.style.use(\"seaborn\")"
   ]
  },
  {
   "cell_type": "markdown",
   "metadata": {},
   "source": [
    "# Read data from NetLogo"
   ]
  },
  {
   "cell_type": "code",
   "execution_count": null,
   "metadata": {},
   "outputs": [],
   "source": [
    "dfl = pd.read_csv('../netlogo/utility/tests/log.csv',names=[\"id\",\"start\",\"end\",\"vmax\",\"num-cars\",\"num-peds\",\"num-cross\",\"in\",\"out\",\"time\"])\n",
    "dfl.shape"
   ]
  },
  {
   "cell_type": "markdown",
   "metadata": {},
   "source": [
    "Lets try to earase first peds with `num-peds = 49`."
   ]
  },
  {
   "cell_type": "code",
   "execution_count": null,
   "metadata": {},
   "outputs": [],
   "source": [
    "dfl.drop(dfl[dfl[\"num-peds\"]==49].index,inplace=True)"
   ]
  },
  {
   "cell_type": "code",
   "execution_count": null,
   "metadata": {},
   "outputs": [],
   "source": [
    "#164253 ticks /120 fps ~ 22.8 min\n",
    "data = dfl.drop(['id','start','end','vmax','num-cross','in','out'],axis=1) \n",
    "data['time']= data['time']/120\n",
    "# data['vmax'] = data['vmax'].mean() * 0.5 * 120\n",
    "data.to_csv('./netlogo_output.csv')\n",
    "data.head()"
   ]
  },
  {
   "cell_type": "code",
   "execution_count": null,
   "metadata": {},
   "outputs": [],
   "source": [
    "plt.plot(dfl[\"time\"],dfl[\"vmax\"],'o')\n",
    "plt.xlabel(\"ticks\")\n",
    "plt.ylabel(\"vmax\");"
   ]
  },
  {
   "cell_type": "code",
   "execution_count": null,
   "metadata": {},
   "outputs": [],
   "source": [
    "ax = plt.axes(projection='3d')\n",
    "import numpy as np\n",
    "x = dfl[\"num-cars\"]\n",
    "y = dfl[\"num-peds\"]\n",
    "z = dfl[\"time\"]\n",
    "ax.scatter(x,y,z)\n",
    "ax.set_xlabel(\"cars\")\n",
    "ax.set_ylabel(\"peds\")\n",
    "ax.set_zlabel(\"time\")"
   ]
  },
  {
   "cell_type": "code",
   "execution_count": null,
   "metadata": {},
   "outputs": [],
   "source": [
    "import seaborn as sns\n",
    "sns.pairplot(dfl)"
   ]
  },
  {
   "cell_type": "markdown",
   "metadata": {},
   "source": [
    "# Multiple Linear Regression"
   ]
  },
  {
   "cell_type": "markdown",
   "metadata": {},
   "source": [
    "Based on [Web](https://www.analyticsvidhya.com/blog/2021/05/multiple-linear-regression-using-python-and-scikit-learn/)"
   ]
  },
  {
   "cell_type": "code",
   "execution_count": null,
   "metadata": {},
   "outputs": [],
   "source": [
    "#separate attributes from predicting attribute\n",
    "x = dfl.drop(['id','start','end','in','out','time'],axis=1) \n",
    "#separate the predicting attribute into Y for model training\n",
    "y = dfl['time']"
   ]
  },
  {
   "cell_type": "code",
   "execution_count": null,
   "metadata": {},
   "outputs": [],
   "source": [
    "#import train_test_split from sklearn\n",
    "from sklearn.model_selection import train_test_split\n",
    "#split the data\n",
    "x_train, x_test, y_train, y_test = train_test_split(x,y,test_size = 0.2, random_state = 42)"
   ]
  },
  {
   "cell_type": "code",
   "execution_count": null,
   "metadata": {},
   "outputs": [],
   "source": [
    "#import module\n",
    "from sklearn.linear_model import LinearRegression\n",
    "#create an objeect of LinearRegression class\n",
    "LR = LinearRegression()\n",
    "#fitting the training data\n",
    "LR.fit(x_train,y_train)"
   ]
  },
  {
   "cell_type": "code",
   "execution_count": null,
   "metadata": {},
   "outputs": [],
   "source": [
    "y_prediction = LR.predict(x_test)"
   ]
  },
  {
   "cell_type": "code",
   "execution_count": null,
   "metadata": {},
   "outputs": [],
   "source": [
    "#import r2_score module\n",
    "from sklearn.metrics import r2_score\n",
    "from sklearn.metrics import mean_squared_error\n",
    "#predicting the accuracy score\n",
    "score=r2_score(y_test,y_prediction)\n",
    "meansqerr = mean_squared_error(y_test,y_prediction)\n",
    "print(f'r2_score is: {score}')\n",
    "print(f'mean sqrd error is:{meansqerr}')\n",
    "print(f'root mean sqr err is:{np.sqrt(meansqerr)}')"
   ]
  },
  {
   "cell_type": "markdown",
   "metadata": {},
   "source": [
    "# Random Forest"
   ]
  },
  {
   "cell_type": "code",
   "execution_count": null,
   "metadata": {},
   "outputs": [],
   "source": [
    "#separate attributes from predicting attribute\n",
    "x = dfl.drop(['id','start','end','in','out','time'],axis=1) \n",
    "#separate the predicting attribute into Y for model training\n",
    "y = dfl['time']"
   ]
  },
  {
   "cell_type": "code",
   "execution_count": null,
   "metadata": {},
   "outputs": [],
   "source": [
    "#import train_test_split from sklearn\n",
    "from sklearn.model_selection import train_test_split\n",
    "#split the data\n",
    "x_train, x_test, y_train, y_test = train_test_split(x,y,test_size = 0.2, random_state = 42)"
   ]
  },
  {
   "cell_type": "code",
   "execution_count": null,
   "metadata": {},
   "outputs": [],
   "source": [
    "from sklearn.ensemble import RandomForestRegressor\n",
    "clf = RandomForestRegressor()\n",
    "\n",
    "#train the model\n",
    "clf.fit(x_train,y_train)\n",
    "#predict the model\n",
    "y_prediction = clf.predict(x_test)"
   ]
  },
  {
   "cell_type": "code",
   "execution_count": null,
   "metadata": {},
   "outputs": [],
   "source": [
    "#import r2_score module\n",
    "from sklearn.metrics import r2_score\n",
    "from sklearn.metrics import mean_squared_error\n",
    "#predicting the accuracy score\n",
    "score=r2_score(y_test,y_prediction)\n",
    "meansqerr = mean_squared_error(y_test,y_prediction)\n",
    "print(f'r2_score is: {score}')\n",
    "print(f'mean sqrd error is:{meansqerr}')\n",
    "print(f'root mean sqr err is:{np.sqrt(meansqerr)}')"
   ]
  },
  {
   "cell_type": "markdown",
   "metadata": {},
   "source": [
    "# Gaussian Process Regression (not working)"
   ]
  },
  {
   "cell_type": "code",
   "execution_count": null,
   "metadata": {},
   "outputs": [],
   "source": [
    "# #separate attributes from predicting attribute\n",
    "# x = dfl.drop(['id','start','end','in','out','time'],axis=1) \n",
    "# #separate the predicting attribute into Y for model training\n",
    "# y = dfl['time']"
   ]
  },
  {
   "cell_type": "code",
   "execution_count": null,
   "metadata": {},
   "outputs": [],
   "source": [
    "# #import train_test_split from sklearn\n",
    "# from sklearn.model_selection import train_test_split\n",
    "# #split the data\n",
    "# x_train, x_test, y_train, y_test = train_test_split(x,y,test_size = 0.2, random_state = 42)"
   ]
  },
  {
   "cell_type": "code",
   "execution_count": null,
   "metadata": {},
   "outputs": [],
   "source": [
    "# from sklearn.gaussian_process import GaussianProcessRegressor\n",
    "# from sklearn.gaussian_process.kernels import RBF, ConstantKernel as C\n",
    "# from sklearn import preprocessing\n",
    "\n",
    "# #create a GP model\n",
    "# kernel = C(1.0,(1e-3,1e3))*RBF(1,(1e-2,1e2))\n",
    "# gp = GaussianProcessRegressor(kernel=kernel,n_restarts_optimizer=100,)\n",
    "\n",
    "# #scale the data\n",
    "# scaler = preprocessing.StandardScaler().fit(x_train)\n",
    "# x_train_scaled = scaler.transform(x_train)\n",
    "\n",
    "# #fit the data\n",
    "# gp.fit(x_train_scaled,y_train)\n",
    "\n",
    "# #predict\n",
    "# y_pred, sigma = gp.predict(x_test, return_std=True)"
   ]
  },
  {
   "cell_type": "code",
   "execution_count": null,
   "metadata": {},
   "outputs": [],
   "source": [
    "# #import r2_score module\n",
    "# from sklearn.metrics import r2_score\n",
    "# from sklearn.metrics import mean_squared_error\n",
    "# #score\n",
    "# gp.score(x_train_scaled,y_train)\n",
    "# #predicting the accuracy score\n",
    "# score=r2_score(y_test,y_pred)\n",
    "# meansqerr = mean_squared_error(y_test,y_pred)\n",
    "# print(f'r2_score is: {score}')\n",
    "# print(f'mean sqrd error is:{meansqerr}')\n",
    "# print(f'root mean sqr err is:{np.sqrt(meansqerr)}')"
   ]
  },
  {
   "cell_type": "markdown",
   "metadata": {},
   "source": [
    "# Krigging (KPLS) with SMT library"
   ]
  },
  {
   "cell_type": "code",
   "execution_count": null,
   "metadata": {},
   "outputs": [],
   "source": [
    "dfl.shape"
   ]
  },
  {
   "cell_type": "code",
   "execution_count": null,
   "metadata": {},
   "outputs": [],
   "source": [
    "#separate attributes from predicting attribute\n",
    "# x = dfl.drop(['id','start','end','vmax','in','out'],axis=1) \n",
    "x = dfl.drop(['id','start','end','in','out'],axis=1) \n",
    "xg = x.groupby(by=['num-cars','num-peds','num-cross']).mean()\n",
    "print(xg.shape)\n"
   ]
  },
  {
   "cell_type": "code",
   "execution_count": null,
   "metadata": {},
   "outputs": [],
   "source": [
    "xg.head()"
   ]
  },
  {
   "cell_type": "code",
   "execution_count": null,
   "metadata": {},
   "outputs": [],
   "source": [
    "# need to use to_records since xg is a group df\n",
    "x = xg.to_records(index=True)\n",
    "x = pd.DataFrame(x).to_numpy()\n",
    "y = x[:,-1]\n",
    "x = x[:,:-1]\n",
    "print(x.shape,y.shape)"
   ]
  },
  {
   "cell_type": "code",
   "execution_count": null,
   "metadata": {},
   "outputs": [],
   "source": [
    "#import train_test_split from sklearn\n",
    "from sklearn.model_selection import train_test_split\n",
    "#split the data\n",
    "x_train, x_test, y_train, y_test = train_test_split(x,y,test_size = 0.2, random_state = 42)"
   ]
  },
  {
   "cell_type": "code",
   "execution_count": null,
   "metadata": {},
   "outputs": [],
   "source": [
    "import numpy as np\n",
    "import matplotlib.pyplot as plt\n",
    "from smt.surrogate_models import KPLS\n",
    "\n",
    "sm = KPLS(theta0=[1e-2])\n",
    "sm.set_training_values(x_train,y_train)\n",
    "sm.train()\n",
    "\n",
    "y_prediction = sm.predict_values(x_test)\n",
    "\n",
    "fig, axs = plt.subplots(1)\n",
    "axs.plot(y_test, y_prediction,'r.')\n",
    "axs.plot(y_test,y_test,'k-')"
   ]
  },
  {
   "cell_type": "code",
   "execution_count": null,
   "metadata": {},
   "outputs": [],
   "source": [
    "#import r2_score module\n",
    "from sklearn.metrics import r2_score\n",
    "from sklearn.metrics import mean_squared_error\n",
    "#predicting the accuracy score\n",
    "score=r2_score(y_test,y_prediction)\n",
    "meansqerr = mean_squared_error(y_test,y_prediction)\n",
    "print(f'r2_score is: {score}')\n",
    "print(f'mean sqrd error is:{meansqerr}')\n",
    "print(f'root mean sqr err is:{np.sqrt(meansqerr)}')"
   ]
  },
  {
   "cell_type": "markdown",
   "metadata": {},
   "source": [
    "# Data from paper"
   ]
  },
  {
   "cell_type": "code",
   "execution_count": null,
   "metadata": {},
   "outputs": [],
   "source": [
    "df = pd.read_csv('./data.csv')\n",
    "df.head()"
   ]
  },
  {
   "cell_type": "code",
   "execution_count": null,
   "metadata": {},
   "outputs": [],
   "source": [
    "def plot_data(num=1):\n",
    "    fig, ax = plt.subplots(figsize=(2,10))\n",
    "    for num in range(5):\n",
    "        x = df[df['id']==num].x_obs\n",
    "        y = df[df['id']==num].y_obs\n",
    "        xe = df[df['id']==num].x_est\n",
    "        ye = df[df['id']==num].y_est\n",
    "        ax.plot(x,y,label=f'obs{num}')\n",
    "        ax.plot(xe,ye,label=f'est{num}')\n",
    "    plt.legend(loc='lower left',bbox_to_anchor=(1.04, 0),fancybox=True,shadow=True)"
   ]
  },
  {
   "cell_type": "code",
   "execution_count": null,
   "metadata": {},
   "outputs": [],
   "source": [
    "plot_data(5)"
   ]
  },
  {
   "cell_type": "code",
   "execution_count": null,
   "metadata": {},
   "outputs": [],
   "source": []
  },
  {
   "cell_type": "code",
   "execution_count": null,
   "metadata": {},
   "outputs": [],
   "source": []
  }
 ],
 "metadata": {
  "interpreter": {
   "hash": "4dd644530b2788db92c10c4f8a167e82bebd242ab5f0961f8e83cd1428753dfa"
  },
  "kernelspec": {
   "display_name": "Python 3.7.7 64-bit ('base': conda)",
   "name": "python3"
  },
  "language_info": {
   "codemirror_mode": {
    "name": "ipython",
    "version": 3
   },
   "file_extension": ".py",
   "mimetype": "text/x-python",
   "name": "python",
   "nbconvert_exporter": "python",
   "pygments_lexer": "ipython3",
   "version": "3.9.7"
  },
  "orig_nbformat": 2
 },
 "nbformat": 4,
 "nbformat_minor": 2
}
